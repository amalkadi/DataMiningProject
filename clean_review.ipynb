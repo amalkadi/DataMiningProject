{
 "cells": [
  {
   "cell_type": "code",
   "execution_count": null,
   "metadata": {
    "collapsed": true
   },
   "outputs": [],
   "source": [
    "import json\n",
    "\n",
    "\n",
    "columns = ['Id', 'UserId', 'Stars', 'Date', 'BusinessId'] #create required columns \n",
    "question_dataframe_file = open('yelp222.json', 'wb')\n",
    "writer = csv.writer(question_dataframe_file, delimiter=',')\n",
    "writer.writerow(columns)\n",
    "c = 0\n",
    "with open('yelp_academic_dataset_review.json') as data_file:\n",
    "    for line in data_file:\n",
    "        c+=1\n",
    "        review = json.loads(line)\n",
    "        #writer.writerow([review['review_id'], review['user_id'], review['stars'], review['date'], review['business_id'] ] )\n",
    "        review.pop('text', None)\n",
    "        review.pop('type', None)\n",
    "        review.pop('votes', None)\n",
    "        question_dataframe_file.writelines(json.dumps(review))\n",
    "print c"
   ]
  }
 ],
 "metadata": {
  "kernelspec": {
   "display_name": "Python 2",
   "language": "python",
   "name": "python2"
  },
  "language_info": {
   "codemirror_mode": {
    "name": "ipython",
    "version": 2
   },
   "file_extension": ".py",
   "mimetype": "text/x-python",
   "name": "python",
   "nbconvert_exporter": "python",
   "pygments_lexer": "ipython2",
   "version": "2.7.11"
  }
 },
 "nbformat": 4,
 "nbformat_minor": 0
}
