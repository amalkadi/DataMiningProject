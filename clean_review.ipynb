{
 "cells": [
  {
   "cell_type": "code",
   "execution_count": 7,
   "metadata": {
    "collapsed": true
   },
   "outputs": [],
   "source": [
    "import json\n",
    "import pprint\n",
    "import csv\n",
    "import numpy as np"
   ]
  },
  {
   "cell_type": "code",
   "execution_count": 4,
   "metadata": {
    "collapsed": false
   },
   "outputs": [
    {
     "ename": "KeyboardInterrupt",
     "evalue": "",
     "output_type": "error",
     "traceback": [
      "\u001b[1;31m---------------------------------------------------------------------------\u001b[0m",
      "\u001b[1;31mKeyboardInterrupt\u001b[0m                         Traceback (most recent call last)",
      "\u001b[1;32m<ipython-input-4-56a5dd4743ea>\u001b[0m in \u001b[0;36m<module>\u001b[1;34m()\u001b[0m\n\u001b[0;32m      8\u001b[0m         \u001b[0mc\u001b[0m\u001b[1;33m+=\u001b[0m\u001b[1;36m1\u001b[0m\u001b[1;33m\u001b[0m\u001b[0m\n\u001b[0;32m      9\u001b[0m         \u001b[0mreview\u001b[0m \u001b[1;33m=\u001b[0m \u001b[0mjson\u001b[0m\u001b[1;33m.\u001b[0m\u001b[0mloads\u001b[0m\u001b[1;33m(\u001b[0m\u001b[0mline\u001b[0m\u001b[1;33m)\u001b[0m\u001b[1;33m\u001b[0m\u001b[0m\n\u001b[1;32m---> 10\u001b[1;33m         \u001b[0mwriter\u001b[0m\u001b[1;33m.\u001b[0m\u001b[0mwriterow\u001b[0m\u001b[1;33m(\u001b[0m\u001b[1;33m[\u001b[0m\u001b[0mreview\u001b[0m\u001b[1;33m[\u001b[0m\u001b[1;34m'review_id'\u001b[0m\u001b[1;33m]\u001b[0m\u001b[1;33m,\u001b[0m \u001b[0mreview\u001b[0m\u001b[1;33m[\u001b[0m\u001b[1;34m'user_id'\u001b[0m\u001b[1;33m]\u001b[0m\u001b[1;33m,\u001b[0m \u001b[0mreview\u001b[0m\u001b[1;33m[\u001b[0m\u001b[1;34m'stars'\u001b[0m\u001b[1;33m]\u001b[0m\u001b[1;33m,\u001b[0m \u001b[0mreview\u001b[0m\u001b[1;33m[\u001b[0m\u001b[1;34m'date'\u001b[0m\u001b[1;33m]\u001b[0m\u001b[1;33m,\u001b[0m \u001b[0mreview\u001b[0m\u001b[1;33m[\u001b[0m\u001b[1;34m'business_id'\u001b[0m\u001b[1;33m]\u001b[0m \u001b[1;33m]\u001b[0m \u001b[1;33m)\u001b[0m\u001b[1;33m\u001b[0m\u001b[0m\n\u001b[0m\u001b[0;32m     11\u001b[0m         \u001b[1;32mif\u001b[0m \u001b[0mc\u001b[0m\u001b[1;33m%\u001b[0m\u001b[1;36m100000\u001b[0m\u001b[1;33m==\u001b[0m\u001b[1;36m0\u001b[0m\u001b[1;33m:\u001b[0m\u001b[1;33m\u001b[0m\u001b[0m\n\u001b[0;32m     12\u001b[0m             \u001b[1;32mprint\u001b[0m \u001b[0mc\u001b[0m\u001b[1;33m\u001b[0m\u001b[0m\n",
      "\u001b[1;31mKeyboardInterrupt\u001b[0m: "
     ]
    }
   ],
   "source": [
    "columns = ['Id', 'UserId', 'Stars', 'Date', 'BusinessId'] #create required columns \n",
    "question_dataframe_file = open('./output/reviews.csv', 'wb')\n",
    "writer = csv.writer(question_dataframe_file, delimiter=',')\n",
    "writer.writerow(columns)\n",
    "c = 0\n",
    "with open('./yelp_dataset/yelp_academic_dataset_review.json') as data_file:\n",
    "    for line in data_file:\n",
    "        c+=1\n",
    "        review = json.loads(line)\n",
    "        writer.writerow([review['review_id'], review['user_id'], review['stars'], review['date'], review['business_id'] ] )\n",
    "        if c%100000==0:\n",
    "            print c\n",
    "print c\n"
   ]
  },
  {
   "cell_type": "code",
   "execution_count": 8,
   "metadata": {
    "collapsed": false
   },
   "outputs": [
    {
     "name": "stdout",
     "output_type": "stream",
     "text": [
      "{u'attributes': {u'Accepts Credit Cards': True,\n",
      "                 u'Alcohol': u'none',\n",
      "                 u'Ambience': {u'casual': False,\n",
      "                               u'classy': False,\n",
      "                               u'divey': False,\n",
      "                               u'hipster': False,\n",
      "                               u'intimate': False,\n",
      "                               u'romantic': False,\n",
      "                               u'touristy': False,\n",
      "                               u'trendy': False,\n",
      "                               u'upscale': False},\n",
      "                 u'Attire': u'casual',\n",
      "                 u'Caters': False,\n",
      "                 u'Delivery': False,\n",
      "                 u'Drive-Thru': False,\n",
      "                 u'Good For': {u'breakfast': False,\n",
      "                               u'brunch': False,\n",
      "                               u'dessert': False,\n",
      "                               u'dinner': False,\n",
      "                               u'latenight': False,\n",
      "                               u'lunch': False},\n",
      "                 u'Good For Groups': True,\n",
      "                 u'Good for Kids': True,\n",
      "                 u'Has TV': False,\n",
      "                 u'Noise Level': u'average',\n",
      "                 u'Outdoor Seating': False,\n",
      "                 u'Parking': {u'garage': False,\n",
      "                              u'lot': False,\n",
      "                              u'street': False,\n",
      "                              u'valet': False,\n",
      "                              u'validated': False},\n",
      "                 u'Price Range': 1,\n",
      "                 u'Take-out': True,\n",
      "                 u'Takes Reservations': False,\n",
      "                 u'Waiter Service': False},\n",
      " u'business_id': u'5UmKMjUEUNdYWqANhGckJw',\n",
      " u'categories': [u'Fast Food', u'Restaurants'],\n",
      " u'city': u'Dravosburg',\n",
      " u'full_address': u'4734 Lebanon Church Rd\\nDravosburg, PA 15034',\n",
      " u'hours': {u'Friday': {u'close': u'21:00', u'open': u'11:00'},\n",
      "            u'Monday': {u'close': u'21:00', u'open': u'11:00'},\n",
      "            u'Thursday': {u'close': u'21:00', u'open': u'11:00'},\n",
      "            u'Tuesday': {u'close': u'21:00', u'open': u'11:00'},\n",
      "            u'Wednesday': {u'close': u'21:00', u'open': u'11:00'}},\n",
      " u'latitude': 40.3543266,\n",
      " u'longitude': -79.9007057,\n",
      " u'name': u'Mr Hoagie',\n",
      " u'neighborhoods': [],\n",
      " u'open': True,\n",
      " u'review_count': 4,\n",
      " u'stars': 4.5,\n",
      " u'state': u'PA',\n",
      " u'type': u'business'}\n",
      "1\n"
     ]
    }
   ],
   "source": [
    "columns = ['Id', 'UserId', 'Stars', 'Date', 'BusinessId'] #create required columns \n",
    "question_dataframe_file = open('./output/business.csv', 'wb')\n",
    "writer = csv.writer(question_dataframe_file, delimiter=',')\n",
    "writer.writerow(columns)\n",
    "c = 0\n",
    "with open('./yelp_dataset/yelp_academic_dataset_business.json') as data_file:\n",
    "    for line in data_file:\n",
    "        c+=1\n",
    "        review = json.loads(line)\n",
    "        pprint.pprint(review)\n",
    "        if c%100000==0:\n",
    "            print c\n",
    "        break\n",
    "print c\n"
   ]
  },
  {
   "cell_type": "code",
   "execution_count": 40,
   "metadata": {
    "collapsed": false
   },
   "outputs": [
    {
     "name": "stdout",
     "output_type": "stream",
     "text": [
      "25\n",
      "55569\n"
     ]
    }
   ],
   "source": [
    "columns = ['BusinessId', '0-1', '1-2', '2-3', '3-4', '4-5', '5-6', '6-7', '7-8', '8-9', '9-10',\n",
    "          '10-11', '11-12', '12-13', '13-14', '14-15', '15-16', '16-17', '17-18', '18-19','19-20', '20-21','21-22',\n",
    "          '22-23', '23-0'] #create required columns \n",
    "question_dataframe_file = open('./output/checkin2.csv', 'wb')\n",
    "writer = csv.writer(question_dataframe_file, delimiter=',')\n",
    "writer.writerow(columns)\n",
    "c = 0\n",
    "with open('./yelp_dataset/yelp_academic_dataset_checkin.json') as data_file:\n",
    "    for line in data_file:\n",
    "        times = np.zeros(24)\n",
    "        c+=1\n",
    "        review = json.loads(line)\n",
    "        keys = review['checkin_info'].keys()\n",
    "        #print keys\n",
    "        for key in keys:\n",
    "            #print hours\n",
    "            #print key\n",
    "            #print review['checkin_info'][key]\n",
    "            hours = int(key.split('-')[0])\n",
    "            times[hours] += review['checkin_info'][key]\n",
    "            \n",
    "         \n",
    "        writer.writerow([review['business_id'], times[0], times[1], times[2], times[3], times[4], times[5],\n",
    "                         times[6], times[7], times[8], times[9], times[10], times[11], times[12], times[13], times[14],\n",
    "                          times[15], times[16],  times[17], times[18], times[19], times[20], times[21], times[22], times[23]])\n",
    "\n",
    "print c"
   ]
  },
  {
   "cell_type": "code",
   "execution_count": 41,
   "metadata": {
    "collapsed": false,
    "scrolled": false
   },
   "outputs": [
    {
     "name": "stdout",
     "output_type": "stream",
     "text": [
      "                          BusinessId  0-1  1-2  2-3  3-4  4-5  5-6  6-7  7-8  \\\n",
      "cE27W9VPgO88Qxe4ol6y_g 0           0    0    0    0    0    0    1    0    1   \n",
      "mVHrayjG3uZ_RLHkLj-AMg 0           0    0    0    0    0    0    0    0    4   \n",
      "KayYbHCt-RkbGcPdGOThNg 0           0    0    0    0    0    0    0    4    5   \n",
      "b12U9TFESStdy7CsTtcOeg 0           0    0    0    0    4    0    0    1    0   \n",
      "QoDa50dc7g62xciFygXB9w 0           0    0    0    0    0    0    0    0    1   \n",
      "1_lU0-eSWJCRvNGk78Zh9Q 0           0    0    0    0    0    0    0    0    0   \n",
      "_qopVQ6_Mz6W7-Pmbi56GQ 0           0    0    0    0    1    0    0    1    0   \n",
      "wJr6kSA5dchdgOdwH6dZ2w 0           0    0    0    0    1    2    3    1    1   \n",
      "yXuao0pFz1AxB21vJjDf5w 0           0    0    0    0    0    0    1    0    3   \n",
      "fNGIbpazjTRdXgwRY_NIXA 0           0    0    0    1    0    0    0    0    2   \n",
      "b9WZJp5L1RZr4F1nxclOoQ 0           0    0    4    7   10   17   20   20   17   \n",
      "zaXDakTd3RXyOa7sMrUE1g 0           0    0    0    0    1    2    4    3    1   \n",
      "zgy27FSnvwdINfk5cXBIyQ 0           0    0    0    0    1    0    1    0    1   \n",
      "WETE_LykpcnrC1sFcQ5EGg 0           0    0    0    0    0    0    0    0    0   \n",
      "SQ0j7bgSTazkVQlF5AnqyQ 0           0    0    0    0    0    0    0    0    0   \n",
      "wqu7ILomIOPSduRwoWp4AQ 0           1    0    0    1    2    4    1    3    6   \n",
      "P1fJb2WQ1mXoiudj8UE44w 0           0    0    0    0    0    0    0    1    4   \n",
      "8QlnAcjGE6dgfKTVoxrPvQ 0           0    0    0    0    0    0    0    3    0   \n",
      "t_gan0EXAw8csKIeFyazJw 0           0    0    0    0    0    0    0    0    0   \n",
      "3gmBc0qN_LtGbZAjTtHWZg 0           0    0    3    7    7   11   21   10   16   \n",
      "yHTLTr-QN-loO_7XoxS8qg 0           0    0    0    0    0    1    3    3    4   \n",
      "iQLLIdmJSt6LQHSjpZERLA 0           0    0    0    0    0    0    2    2    2   \n",
      "6ilJq_05xRgek_8qUp36-g 4           0    0    0    0    0    1    3    9    9   \n",
      "MKyk4F4HSzHF8v-4cYe3Ww 0           1    0    0    0    0    0    0    0    0   \n",
      "gClSqcwuLsgyZRCzhJc7Dg 0           0    0    0    0    0    3    8    4   16   \n",
      "1qCuOcks5HRv67OHovAVpg 0           0    0    0    0    0    0    1    0    2   \n",
      "sbW8qHJgzEIH42B0S-3New 0           0    0    0    0    0    0    2    4    8   \n",
      "W7ysp8GLCBrs0GXIVwAcBQ 0           0    0    0    0    0    0    0    0    1   \n",
      "McikHxxEqZ2X0joaRNKlaw 0           0    0    0    0    0    0    0   10   20   \n",
      "tv8cS4aaA1VDaInYgggb6g 1           0    0    0    0    1    0    0    0    1   \n",
      "...                              ...  ...  ...  ...  ...  ...  ...  ...  ...   \n",
      "EZrKtxwuK19obexGC0dTzA 0           0    0    0    0    0    0    0    0    0   \n",
      "tWCXFJYoj9eixMEVTJd50g 0           0    0    0    0    0    0    0    0    0   \n",
      "xNBzT2p1VPl3LizoWsJLmg 0           0    0    0    0    0    0    0    0    0   \n",
      "dtlk15Awa7xWEVF9Z1Yqaw 0           0    0    0    0    0    1    0    0    0   \n",
      "x4L6w4eBsLxlHTjgs_-tWA 0           0    0    0    0    0    0    0    0    0   \n",
      "ynAlJyFhiq1fImUEZ6u6Gw 0           0    0    0    0    0    0    0    0    1   \n",
      "hiCIjGJfb3B4_YCAYqwduA 0           0    0    0    0    0    2    0    6    0   \n",
      "IitTBIY8DiJwhxPXL3x80A 0           0    0    0    0    0    0    0    0    0   \n",
      "RNRQknSCw3ETKwXY1su2Dg 0           0    0    0    0    0    0    0    1    0   \n",
      "7GTl6b4TwEzkbUkq0C8b4w 0           0    0    0    0    0    0    0    0    0   \n",
      "T-LhjPRqlS7hLGRmSMBbfA 0           0    0    0    0    0    0    2    0    2   \n",
      "0bJnBA0uNB5vqSgUX7TBTA 0           0    0    0    0    0    0    0    0    0   \n",
      "BdckEea0axlkaqGr4Bh7IA 0           0    0    0    0    0    1    0    3    2   \n",
      "4DVltN-qQpllCh5dKYcOkQ 0           0    0    0    0    0    0    0    0    0   \n",
      "rtqtZ0_kOA-GP33mn6-Kpg 0           0    0    0    0    0    0    0    0    0   \n",
      "XGcsblboBZ0Y6VuAfVXxvg 0           0    0    0    0    0    0    0    0    0   \n",
      "cjJvvEbpo9b_76hV_lyFXg 0           0    0    0    0    0    0    0    0    0   \n",
      "7Hmr1TDJah-14zprHUMlqw 0           0    0    0    0    0    0    0    0    0   \n",
      "J6i_Tt4dI7IUTIG9xaC8cg 0           0    0    0    0    0    0    1    1    1   \n",
      "jt483eMod3OR36S3KMN4gg 1           0    0    0    0    0    0    0    0    0   \n",
      "iYk5QEI3IZmr25L3QWz4KQ 0           0    0    0    0    0    1    0    1    0   \n",
      "u-CoRVDri80TWLktlMAhJg 0           0    0    0    0    0    0    0    0    0   \n",
      "QNZTXlE9XY3HyZO3kx6eew 1           0    0    0    0    0    0    0    1    5   \n",
      "CVakWZjk_j44AB-Jbe0DPQ 0           0    0    0    0    0    1    0    0    2   \n",
      "ArtsD3RqfCVjIRSZunIh_g 0           0    0    0    0    0    0    0    0    0   \n",
      "g4_7pOA-6uO19l2S2Tl2Pw 0           0    0    0    0    0    0    0    0    1   \n",
      "9-pGDHbyIoP_KhguG6vI1Q 0           0    0    0    0    0    0    0    0    0   \n",
      "NQQ9N-PLf3D-pguttlZ0JA 0           0    0    0    0    0    0    0    0    0   \n",
      "11BQ6VK8UsaFa4KJPup6Hg 0           0    0    0    0    0    1    0    2    1   \n",
      "dgzU923a29Yb1M8_Rz6R4A 0           0    0    0    0    0    0    0    0    0   \n",
      "\n",
      "                          8-9  ...   12-13  13-14  14-15  15-16  16-17  17-18  \\\n",
      "cE27W9VPgO88Qxe4ol6y_g 0    1  ...       1      0      0      2      1      0   \n",
      "mVHrayjG3uZ_RLHkLj-AMg 0    4  ...       2      4      1      1      0      0   \n",
      "KayYbHCt-RkbGcPdGOThNg 0    3  ...       4      7      3      5      2      2   \n",
      "b12U9TFESStdy7CsTtcOeg 0    0  ...       0      0      0      0      0      0   \n",
      "QoDa50dc7g62xciFygXB9w 0    0  ...       0      1      1      0      0      0   \n",
      "1_lU0-eSWJCRvNGk78Zh9Q 0    1  ...       0      1      0      0      1      0   \n",
      "_qopVQ6_Mz6W7-Pmbi56GQ 0    0  ...       0      0      0      0      0      0   \n",
      "wJr6kSA5dchdgOdwH6dZ2w 0    0  ...       1      0      0      1      1      1   \n",
      "yXuao0pFz1AxB21vJjDf5w 0    3  ...       5      0      3      2      2      1   \n",
      "fNGIbpazjTRdXgwRY_NIXA 0    2  ...       0      2      2      0      0      0   \n",
      "b9WZJp5L1RZr4F1nxclOoQ 0   10  ...       0      0      0      0      0      0   \n",
      "zaXDakTd3RXyOa7sMrUE1g 0    3  ...       0      0      0      0      0      0   \n",
      "zgy27FSnvwdINfk5cXBIyQ 0    0  ...       0      0      0      0      0      2   \n",
      "WETE_LykpcnrC1sFcQ5EGg 0    0  ...       0      0      1      3      0      1   \n",
      "SQ0j7bgSTazkVQlF5AnqyQ 0    0  ...       2      1      0      2      0      0   \n",
      "wqu7ILomIOPSduRwoWp4AQ 0    3  ...       1      3      4      0      1      5   \n",
      "P1fJb2WQ1mXoiudj8UE44w 0    5  ...       9     13     17     17      8      1   \n",
      "8QlnAcjGE6dgfKTVoxrPvQ 0    0  ...       0      1      0      0      0      0   \n",
      "t_gan0EXAw8csKIeFyazJw 0    0  ...       0      0      1      0      2      0   \n",
      "3gmBc0qN_LtGbZAjTtHWZg 0   14  ...      14     17      8      6      4      3   \n",
      "yHTLTr-QN-loO_7XoxS8qg 0    4  ...      14      2      5      6      0      0   \n",
      "iQLLIdmJSt6LQHSjpZERLA 0    1  ...       0      1      1      1      0      0   \n",
      "6ilJq_05xRgek_8qUp36-g 4   12  ...       5      6      8      7      3      2   \n",
      "MKyk4F4HSzHF8v-4cYe3Ww 0    0  ...       0      1     15      8      9      6   \n",
      "gClSqcwuLsgyZRCzhJc7Dg 0    8  ...      13     12      8     16     14      0   \n",
      "1qCuOcks5HRv67OHovAVpg 0    4  ...       8     12     10      6      3      3   \n",
      "sbW8qHJgzEIH42B0S-3New 0   12  ...      17     39     34     26     32     14   \n",
      "W7ysp8GLCBrs0GXIVwAcBQ 0    1  ...       1      1      0      0      0      0   \n",
      "McikHxxEqZ2X0joaRNKlaw 0   23  ...      36     72     90     57     47     20   \n",
      "tv8cS4aaA1VDaInYgggb6g 1    0  ...       2     30     42     23     20     11   \n",
      "...                       ...  ...     ...    ...    ...    ...    ...    ...   \n",
      "EZrKtxwuK19obexGC0dTzA 0    0  ...       0      0      1     15     28      1   \n",
      "tWCXFJYoj9eixMEVTJd50g 0    3  ...       2      3      0      1      1      1   \n",
      "xNBzT2p1VPl3LizoWsJLmg 0    0  ...      12     13      5      9      2      4   \n",
      "dtlk15Awa7xWEVF9Z1Yqaw 0    1  ...       0      0      0      0      1      0   \n",
      "x4L6w4eBsLxlHTjgs_-tWA 0    0  ...       1      7      2      0      1      0   \n",
      "ynAlJyFhiq1fImUEZ6u6Gw 0    1  ...       0      0      0      0      1      0   \n",
      "hiCIjGJfb3B4_YCAYqwduA 0    1  ...       0      2      3      1      2      1   \n",
      "IitTBIY8DiJwhxPXL3x80A 0    0  ...       0      0      0      1     12      7   \n",
      "RNRQknSCw3ETKwXY1su2Dg 0    0  ...       0      0      0      0      1      0   \n",
      "7GTl6b4TwEzkbUkq0C8b4w 0    0  ...       0      0      3      1      0      0   \n",
      "T-LhjPRqlS7hLGRmSMBbfA 0    9  ...      13     23     20     37     51     23   \n",
      "0bJnBA0uNB5vqSgUX7TBTA 0    0  ...       0      1      1      1      2      1   \n",
      "BdckEea0axlkaqGr4Bh7IA 0    1  ...       0      0      2      1      2      0   \n",
      "4DVltN-qQpllCh5dKYcOkQ 0    0  ...       0      6     23      5      2      1   \n",
      "rtqtZ0_kOA-GP33mn6-Kpg 0    1  ...       0      0      1      1      1      1   \n",
      "XGcsblboBZ0Y6VuAfVXxvg 0    0  ...       0      0      0      0      0      0   \n",
      "cjJvvEbpo9b_76hV_lyFXg 0    0  ...       4      1      1      1      4     10   \n",
      "7Hmr1TDJah-14zprHUMlqw 0    0  ...       1      0      2      0      4      0   \n",
      "J6i_Tt4dI7IUTIG9xaC8cg 0    3  ...       1      1      0      0      0      0   \n",
      "jt483eMod3OR36S3KMN4gg 1    0  ...       1      2      0      3      2      5   \n",
      "iYk5QEI3IZmr25L3QWz4KQ 0    1  ...       0      0      0      0      0      0   \n",
      "u-CoRVDri80TWLktlMAhJg 0    1  ...       0      1      1      0      0      0   \n",
      "QNZTXlE9XY3HyZO3kx6eew 1    1  ...       3      4      0      6      5      3   \n",
      "CVakWZjk_j44AB-Jbe0DPQ 0    0  ...       1      2      0      1      0      0   \n",
      "ArtsD3RqfCVjIRSZunIh_g 0    0  ...       7      4      3      3      5      2   \n",
      "g4_7pOA-6uO19l2S2Tl2Pw 0    3  ...       1      1      0      1      2      1   \n",
      "9-pGDHbyIoP_KhguG6vI1Q 0    0  ...       0      1      1      1      3      2   \n",
      "NQQ9N-PLf3D-pguttlZ0JA 0    0  ...       0      0      0      0      1      1   \n",
      "11BQ6VK8UsaFa4KJPup6Hg 0    2  ...       3      4      2      3      1      1   \n",
      "dgzU923a29Yb1M8_Rz6R4A 0    1  ...       1      0      0      0      0      0   \n",
      "\n",
      "                          19-20  21-22  22-23  23-0  \n",
      "cE27W9VPgO88Qxe4ol6y_g 0      0      0      0     0  \n",
      "mVHrayjG3uZ_RLHkLj-AMg 0      0      1      1     0  \n",
      "KayYbHCt-RkbGcPdGOThNg 0      1      3      0     1  \n",
      "b12U9TFESStdy7CsTtcOeg 0      0      0      0     0  \n",
      "QoDa50dc7g62xciFygXB9w 0      0      0      0     0  \n",
      "1_lU0-eSWJCRvNGk78Zh9Q 0      0      0      0     0  \n",
      "_qopVQ6_Mz6W7-Pmbi56GQ 0      0      0      0     0  \n",
      "wJr6kSA5dchdgOdwH6dZ2w 0      0      0      0     0  \n",
      "yXuao0pFz1AxB21vJjDf5w 0      0      0      0     0  \n",
      "fNGIbpazjTRdXgwRY_NIXA 0      0      0      1     0  \n",
      "b9WZJp5L1RZr4F1nxclOoQ 0      1      0      0     0  \n",
      "zaXDakTd3RXyOa7sMrUE1g 0      0      0      0     0  \n",
      "zgy27FSnvwdINfk5cXBIyQ 0      0      0      1     0  \n",
      "WETE_LykpcnrC1sFcQ5EGg 0      1      0      0     0  \n",
      "SQ0j7bgSTazkVQlF5AnqyQ 0      0      0      0     0  \n",
      "wqu7ILomIOPSduRwoWp4AQ 0      2      0      0     0  \n",
      "P1fJb2WQ1mXoiudj8UE44w 0      0      0      0     0  \n",
      "8QlnAcjGE6dgfKTVoxrPvQ 0      0      0      0     0  \n",
      "t_gan0EXAw8csKIeFyazJw 0      0      0      0     0  \n",
      "3gmBc0qN_LtGbZAjTtHWZg 0      1      0      0     0  \n",
      "yHTLTr-QN-loO_7XoxS8qg 0      0      0      0     0  \n",
      "iQLLIdmJSt6LQHSjpZERLA 0      0      0      0     0  \n",
      "6ilJq_05xRgek_8qUp36-g 4      5      6      4     1  \n",
      "MKyk4F4HSzHF8v-4cYe3Ww 0      4      4      2     1  \n",
      "gClSqcwuLsgyZRCzhJc7Dg 0      0      0      0     0  \n",
      "1qCuOcks5HRv67OHovAVpg 0      3      1      1     0  \n",
      "sbW8qHJgzEIH42B0S-3New 0      9      5      1     0  \n",
      "W7ysp8GLCBrs0GXIVwAcBQ 0      0      0      0     0  \n",
      "McikHxxEqZ2X0joaRNKlaw 0     11      8      1     0  \n",
      "tv8cS4aaA1VDaInYgggb6g 1      4      3      0     0  \n",
      "...                         ...    ...    ...   ...  \n",
      "EZrKtxwuK19obexGC0dTzA 0      0      0      0     0  \n",
      "tWCXFJYoj9eixMEVTJd50g 0      0      0      0     0  \n",
      "xNBzT2p1VPl3LizoWsJLmg 0      2      1      0     0  \n",
      "dtlk15Awa7xWEVF9Z1Yqaw 0      0      0      0     0  \n",
      "x4L6w4eBsLxlHTjgs_-tWA 0      0      0      0     0  \n",
      "ynAlJyFhiq1fImUEZ6u6Gw 0      0      0      0     0  \n",
      "hiCIjGJfb3B4_YCAYqwduA 0      0      0      0     0  \n",
      "IitTBIY8DiJwhxPXL3x80A 0      0      0      1     0  \n",
      "RNRQknSCw3ETKwXY1su2Dg 0      1      0      0     0  \n",
      "7GTl6b4TwEzkbUkq0C8b4w 0      0      0      0     0  \n",
      "T-LhjPRqlS7hLGRmSMBbfA 0     16     11      4     0  \n",
      "0bJnBA0uNB5vqSgUX7TBTA 0      0      0      3     0  \n",
      "BdckEea0axlkaqGr4Bh7IA 0      0      0      0     0  \n",
      "4DVltN-qQpllCh5dKYcOkQ 0      0      0      0     0  \n",
      "rtqtZ0_kOA-GP33mn6-Kpg 0      0      0      0     0  \n",
      "XGcsblboBZ0Y6VuAfVXxvg 0      0      0      1     0  \n",
      "cjJvvEbpo9b_76hV_lyFXg 0     12      7      4     0  \n",
      "7Hmr1TDJah-14zprHUMlqw 0      0      0      0     1  \n",
      "J6i_Tt4dI7IUTIG9xaC8cg 0      0      0      0     0  \n",
      "jt483eMod3OR36S3KMN4gg 1      1      0      2     1  \n",
      "iYk5QEI3IZmr25L3QWz4KQ 0      1      0      0     0  \n",
      "u-CoRVDri80TWLktlMAhJg 0      0      0      0     0  \n",
      "QNZTXlE9XY3HyZO3kx6eew 1      3      2      2     1  \n",
      "CVakWZjk_j44AB-Jbe0DPQ 0      0      0      0     0  \n",
      "ArtsD3RqfCVjIRSZunIh_g 0      3      0      0     0  \n",
      "g4_7pOA-6uO19l2S2Tl2Pw 0      2      0      1     0  \n",
      "9-pGDHbyIoP_KhguG6vI1Q 0      1      3      0     0  \n",
      "NQQ9N-PLf3D-pguttlZ0JA 0      0      0      0     0  \n",
      "11BQ6VK8UsaFa4KJPup6Hg 0      0      0      0     0  \n",
      "dgzU923a29Yb1M8_Rz6R4A 0      0      0      0     0  \n",
      "\n",
      "[55569 rows x 23 columns]\n"
     ]
    }
   ],
   "source": [
    "import matplotlib.pyplot as plt\n",
    "import pandas as pd\n",
    "from pandas import DataFrame\n",
    "%matplotlib inline\n",
    "\n",
    "df = pd.read_csv('./output/checkin.csv')\n",
    "print df\n",
    "# print df\n",
    "# plt.plot(df[,not 'BussinessId'])\n",
    "# plt.xlabel('Date')\n",
    "# plt.xlim('Jan 2015' , 'Dec 2015')\n",
    "# plt.ylabel('Posts')"
   ]
  },
  {
   "cell_type": "code",
   "execution_count": null,
   "metadata": {
    "collapsed": true
   },
   "outputs": [],
   "source": []
  },
  {
   "cell_type": "code",
   "execution_count": null,
   "metadata": {
    "collapsed": true
   },
   "outputs": [],
   "source": []
  },
  {
   "cell_type": "code",
   "execution_count": null,
   "metadata": {
    "collapsed": true
   },
   "outputs": [],
   "source": []
  },
  {
   "cell_type": "code",
   "execution_count": null,
   "metadata": {
    "collapsed": true
   },
   "outputs": [],
   "source": []
  },
  {
   "cell_type": "code",
   "execution_count": null,
   "metadata": {
    "collapsed": true
   },
   "outputs": [],
   "source": []
  },
  {
   "cell_type": "code",
   "execution_count": null,
   "metadata": {
    "collapsed": true
   },
   "outputs": [],
   "source": []
  },
  {
   "cell_type": "code",
   "execution_count": null,
   "metadata": {
    "collapsed": true
   },
   "outputs": [],
   "source": []
  },
  {
   "cell_type": "code",
   "execution_count": null,
   "metadata": {
    "collapsed": true
   },
   "outputs": [],
   "source": []
  },
  {
   "cell_type": "code",
   "execution_count": null,
   "metadata": {
    "collapsed": true
   },
   "outputs": [],
   "source": []
  },
  {
   "cell_type": "code",
   "execution_count": null,
   "metadata": {
    "collapsed": true
   },
   "outputs": [],
   "source": []
  }
 ],
 "metadata": {
  "kernelspec": {
   "display_name": "Python 2",
   "language": "python",
   "name": "python2"
  },
  "language_info": {
   "codemirror_mode": {
    "name": "ipython",
    "version": 2
   },
   "file_extension": ".py",
   "mimetype": "text/x-python",
   "name": "python",
   "nbconvert_exporter": "python",
   "pygments_lexer": "ipython2",
   "version": "2.7.11"
  }
 },
 "nbformat": 4,
 "nbformat_minor": 0
}
