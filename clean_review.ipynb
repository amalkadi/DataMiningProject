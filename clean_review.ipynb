{
 "cells": [
  {
   "cell_type": "code",
   "execution_count": 1,
   "metadata": {
    "collapsed": true
   },
   "outputs": [],
   "source": [
    "import json\n",
    "import pprint\n",
    "import csv\n",
    "import numpy as np\n",
    "import unicodedata\n"
   ]
  },
  {
   "cell_type": "code",
   "execution_count": 2,
   "metadata": {
    "collapsed": false
   },
   "outputs": [
    {
     "name": "stdout",
     "output_type": "stream",
     "text": [
      "100000\n",
      "200000\n",
      "300000\n",
      "400000\n",
      "500000\n",
      "600000\n",
      "700000\n",
      "800000\n",
      "900000\n",
      "1000000\n",
      "1100000\n",
      "1200000\n",
      "1300000\n",
      "1400000\n",
      "1500000\n",
      "1600000\n",
      "1700000\n",
      "1800000\n",
      "1900000\n",
      "2000000\n",
      "2100000\n",
      "2200000\n",
      "2225213\n"
     ]
    }
   ],
   "source": [
    "columns = ['Id', 'UserId', 'Stars', 'Date', 'BusinessId'] #create required columns \n",
    "question_dataframe_file = open('./output/reviews.csv', 'wb')\n",
    "writer = csv.writer(question_dataframe_file, delimiter=',')\n",
    "writer.writerow(columns)\n",
    "c = 0\n",
    "with open('./yelp_dataset/yelp_academic_dataset_review.json') as data_file:\n",
    "    for line in data_file:\n",
    "        c+=1\n",
    "        review = json.loads(line)\n",
    "        writer.writerow([review['review_id'], review['user_id'], review['stars'], review['date'], review['business_id'] ] )\n",
    "        if c%100000==0:\n",
    "            print c\n",
    "print c\n"
   ]
  },
  {
   "cell_type": "code",
   "execution_count": 3,
   "metadata": {
    "collapsed": false
   },
   "outputs": [
    {
     "name": "stdout",
     "output_type": "stream",
     "text": [
      "77445\n",
      "98\n"
     ]
    }
   ],
   "source": [
    "########################################\n",
    "# flatten dict keys in bussiness.csv\n",
    "########################################\n",
    "c = 0\n",
    "cols = []\n",
    "with open('./yelp_dataset/yelp_academic_dataset_business.json') as data_file:\n",
    "    for line in data_file:           \n",
    "        c+=1\n",
    "        review = json.loads(line)\n",
    "        #print review\n",
    "        for catg in review:\n",
    "            if type(review[catg]) is dict:\n",
    "                for item in review[catg]:\n",
    "                    if type(review[catg][item]) is dict:\n",
    "                        for nesteditem in review[catg][item]:\n",
    "                            toappend = catg+\":\"+item+\":\"+nesteditem\n",
    "                            if toappend not in cols:\n",
    "                                cols.append(toappend)\n",
    "                                #print toappend\n",
    "                    else:\n",
    "                        toappend = catg+\":\"+item\n",
    "                        if toappend not in cols:\n",
    "                            cols.append(toappend)\n",
    "                            #print toappend\n",
    "            elif catg not in cols:\n",
    "                cols.append(catg)\n",
    "                #print catg\n",
    "#         pprint.pprint(review)\n",
    "#         if c%100000==0:\n",
    "        #print c\n",
    "#         break\n",
    "print c\n",
    "print len(cols)\n",
    "cols.sort()\n"
   ]
  },
  {
   "cell_type": "code",
   "execution_count": 16,
   "metadata": {
    "collapsed": false
   },
   "outputs": [
    {
     "name": "stdout",
     "output_type": "stream",
     "text": [
      "[u'attributes:Accepts Credit Cards', u'attributes:Accepts Insurance', u'attributes:Ages Allowed', u'attributes:Alcohol', u'attributes:Ambience:casual', u'attributes:Ambience:classy', u'attributes:Ambience:divey', u'attributes:Ambience:hipster', u'attributes:Ambience:intimate', u'attributes:Ambience:romantic', u'attributes:Ambience:touristy', u'attributes:Ambience:trendy', u'attributes:Ambience:upscale', u'attributes:Attire', u'attributes:BYOB', u'attributes:BYOB/Corkage', u'attributes:By Appointment Only', u'attributes:Caters', u'attributes:Coat Check', u'attributes:Corkage', u'attributes:Delivery', u'attributes:Dietary Restrictions:dairy-free', u'attributes:Dietary Restrictions:gluten-free', u'attributes:Dietary Restrictions:halal', u'attributes:Dietary Restrictions:kosher', u'attributes:Dietary Restrictions:soy-free', u'attributes:Dietary Restrictions:vegan', u'attributes:Dietary Restrictions:vegetarian', u'attributes:Dogs Allowed', u'attributes:Drive-Thru', u'attributes:Good For Dancing', u'attributes:Good For Groups', u'attributes:Good For:breakfast', u'attributes:Good For:brunch', u'attributes:Good For:dessert', u'attributes:Good For:dinner', u'attributes:Good For:latenight', u'attributes:Good For:lunch', u'attributes:Good for Kids', u'attributes:Hair Types Specialized In:africanamerican', u'attributes:Hair Types Specialized In:asian', u'attributes:Hair Types Specialized In:coloring', u'attributes:Hair Types Specialized In:curly', u'attributes:Hair Types Specialized In:extensions', u'attributes:Hair Types Specialized In:kids', u'attributes:Hair Types Specialized In:perms', u'attributes:Hair Types Specialized In:straightperms', u'attributes:Happy Hour', u'attributes:Has TV', u'attributes:Music:background_music', u'attributes:Music:dj', u'attributes:Music:jukebox', u'attributes:Music:karaoke', u'attributes:Music:live', u'attributes:Music:video', u'attributes:Noise Level', u'attributes:Open 24 Hours', u'attributes:Order at Counter', u'attributes:Outdoor Seating', u'attributes:Parking:garage', u'attributes:Parking:lot', u'attributes:Parking:street', u'attributes:Parking:valet', u'attributes:Parking:validated', u'attributes:Price Range', u'attributes:Smoking', u'attributes:Take-out', u'attributes:Takes Reservations', u'attributes:Waiter Service', u'attributes:Wheelchair Accessible', u'attributes:Wi-Fi', u'business_id', u'categories', u'city', u'full_address', u'hours:Friday:close', u'hours:Friday:open', u'hours:Monday:close', u'hours:Monday:open', u'hours:Saturday:close', u'hours:Saturday:open', u'hours:Sunday:close', u'hours:Sunday:open', u'hours:Thursday:close', u'hours:Thursday:open', u'hours:Tuesday:close', u'hours:Tuesday:open', u'hours:Wednesday:close', u'hours:Wednesday:open', u'latitude', u'longitude', u'name', u'neighborhoods', u'open', u'review_count', u'stars', u'state', u'type']\n"
     ]
    }
   ],
   "source": [
    "print cols"
   ]
  },
  {
   "cell_type": "code",
   "execution_count": 7,
   "metadata": {
    "collapsed": false
   },
   "outputs": [
    {
     "name": "stdout",
     "output_type": "stream",
     "text": [
      "1000\n",
      "2000\n",
      "3000\n",
      "4000\n",
      "5000\n",
      "6000\n",
      "7000\n",
      "8000\n",
      "9000\n",
      "10000\n",
      "11000\n",
      "12000\n",
      "13000\n",
      "14000\n",
      "15000\n",
      "16000\n",
      "17000\n",
      "18000\n",
      "19000\n",
      "20000\n",
      "21000\n",
      "22000\n",
      "23000\n",
      "24000\n",
      "25000\n",
      "26000\n",
      "27000\n",
      "28000\n",
      "29000\n",
      "30000\n",
      "31000\n",
      "32000\n",
      "33000\n",
      "34000\n",
      "35000\n",
      "36000\n",
      "37000\n",
      "38000\n",
      "39000\n",
      "40000\n",
      "41000\n",
      "42000\n",
      "43000\n",
      "44000\n",
      "45000\n",
      "46000\n",
      "47000\n",
      "48000\n",
      "49000\n",
      "50000\n",
      "51000\n",
      "52000\n",
      "53000\n",
      "54000\n",
      "55000\n",
      "56000\n",
      "57000\n",
      "58000\n",
      "59000\n",
      "60000\n",
      "61000\n",
      "62000\n",
      "63000\n",
      "64000\n",
      "65000\n",
      "66000\n",
      "67000\n",
      "68000\n",
      "69000\n",
      "70000\n",
      "71000\n",
      "72000\n",
      "73000\n",
      "74000\n",
      "75000\n",
      "76000\n",
      "77000\n",
      "77445\n"
     ]
    },
    {
     "data": {
      "text/plain": [
       "'\\nERROR parsing to ascii code: 72\\nERROR parsing to ascii code: 89\\nERROR parsing to ascii code: 90\\nERROR parsing to ascii code: 92\\nERROR parsing to ascii code: 93\\nERROR parsing to ascii code: 94\\nERROR parsing to ascii code: 95\\n'"
      ]
     },
     "execution_count": 7,
     "metadata": {},
     "output_type": "execute_result"
    }
   ],
   "source": [
    "########################################\n",
    "# write attributes to business.csv file\n",
    "########################################\n",
    "business_dataframe = open('./output/business.csv', 'wb')\n",
    "writer = csv.writer(business_dataframe, delimiter=',')\n",
    "cols.append('business_id')\n",
    "writer.writerow(cols)\n",
    "with open('./yelp_dataset/yelp_academic_dataset_business.json') as data_file:\n",
    "    c=0\n",
    "    for line in data_file:           \n",
    "        c+=1\n",
    "        a = ['N/A'] * 99 #create an array of None by default\n",
    "        business = json.loads(line)\n",
    "        #put\n",
    "        a[-1] = business['business_id']\n",
    "        for i in range (len(a) - 1):\n",
    "            level = cols[i].split(':')\n",
    "            if len(level) == 1:\n",
    "                a[i] = business[cols[i]]\n",
    "                try:\n",
    "                    nfkd_form = unicodedata.normalize('NFKD', a[i])\n",
    "                    a[i] = nfkd_form.encode('ASCII', 'ignore')\n",
    "                except:\n",
    "#                     print 'ERROR parsing to ascii code:', i\n",
    "                    pass\n",
    "                \n",
    "            elif len(level) == 2:\n",
    "                if level[1] in business[level[0]].keys():\n",
    "                    a[i] = business[level[0]][level[1]]\n",
    "            elif len(level) == 3:\n",
    "                if level[1] in business[level[0]].keys():\n",
    "                    if level[2] in business[level[0]][level[1]].keys():\n",
    "                        a[i] =  business[level[0]][level[1]][level[2]]\n",
    "\n",
    "        writer.writerow(a)\n",
    "        if c % 1000 == 0:\n",
    "            print c\n",
    "\n",
    "print c\n",
    "business_dataframe.close()\n",
    "\n",
    "'''\n",
    "ERROR parsing to ascii code: 72\n",
    "ERROR parsing to ascii code: 89\n",
    "ERROR parsing to ascii code: 90\n",
    "ERROR parsing to ascii code: 92\n",
    "ERROR parsing to ascii code: 93\n",
    "ERROR parsing to ascii code: 94\n",
    "ERROR parsing to ascii code: 95\n",
    "'''"
   ]
  },
  {
   "cell_type": "code",
   "execution_count": 18,
   "metadata": {
    "collapsed": false
   },
   "outputs": [
    {
     "data": {
      "text/plain": [
       "\"\\ne.g.\\n>>> flatten({'a': 1, 'c': {'a': 2, 'b': {'x': 5, 'y' : 10}}, 'd': [1, 2, 3]})\\n{'a': 1, 'c_a': 2, 'c_b_x': 5, 'd': [1, 2, 3], 'c_b_y': 10}\\n\""
      ]
     },
     "execution_count": 18,
     "metadata": {},
     "output_type": "execute_result"
    }
   ],
   "source": [
    "########################################\n",
    "# flatten dict reference\n",
    "########################################\n",
    "import collections\n",
    "\n",
    "def flatten(d, parent_key='', sep='_'):\n",
    "    items = []\n",
    "    for k, v in d.items():\n",
    "        new_key = parent_key + sep + k if parent_key else k\n",
    "        if isinstance(v, collections.MutableMapping):\n",
    "            #recursive call\n",
    "            items.extend(flatten(v, new_key, sep=sep).items())\n",
    "        else:\n",
    "            items.append((new_key, v))\n",
    "    return dict(items)\n",
    "\n",
    "'''\n",
    "e.g.\n",
    ">>> flatten({'a': 1, 'c': {'a': 2, 'b': {'x': 5, 'y' : 10}}, 'd': [1, 2, 3]})\n",
    "{'a': 1, 'c_a': 2, 'c_b_x': 5, 'd': [1, 2, 3], 'c_b_y': 10}\n",
    "'''"
   ]
  },
  {
   "cell_type": "code",
   "execution_count": 28,
   "metadata": {
    "collapsed": false
   },
   "outputs": [
    {
     "name": "stdout",
     "output_type": "stream",
     "text": [
      "[u'attributes:Accepts Credit Cards', u'attributes:Accepts Insurance', u'attributes:Ages Allowed', u'attributes:Alcohol', u'attributes:Ambience:casual', u'attributes:Ambience:classy', u'attributes:Ambience:divey', u'attributes:Ambience:hipster', u'attributes:Ambience:intimate', u'attributes:Ambience:romantic', u'attributes:Ambience:touristy', u'attributes:Ambience:trendy', u'attributes:Ambience:upscale', u'attributes:Attire', u'attributes:BYOB', u'attributes:BYOB/Corkage', u'attributes:By Appointment Only', u'attributes:Caters', u'attributes:Coat Check', u'attributes:Corkage', u'attributes:Delivery', u'attributes:Dietary Restrictions:dairy-free', u'attributes:Dietary Restrictions:gluten-free', u'attributes:Dietary Restrictions:halal', u'attributes:Dietary Restrictions:kosher', u'attributes:Dietary Restrictions:soy-free', u'attributes:Dietary Restrictions:vegan', u'attributes:Dietary Restrictions:vegetarian', u'attributes:Dogs Allowed', u'attributes:Drive-Thru', u'attributes:Good For Dancing', u'attributes:Good For Groups', u'attributes:Good For:breakfast', u'attributes:Good For:brunch', u'attributes:Good For:dessert', u'attributes:Good For:dinner', u'attributes:Good For:latenight', u'attributes:Good For:lunch', u'attributes:Good for Kids', u'attributes:Hair Types Specialized In:africanamerican', u'attributes:Hair Types Specialized In:asian', u'attributes:Hair Types Specialized In:coloring', u'attributes:Hair Types Specialized In:curly', u'attributes:Hair Types Specialized In:extensions', u'attributes:Hair Types Specialized In:kids', u'attributes:Hair Types Specialized In:perms', u'attributes:Hair Types Specialized In:straightperms', u'attributes:Happy Hour', u'attributes:Has TV', u'attributes:Music:background_music', u'attributes:Music:dj', u'attributes:Music:jukebox', u'attributes:Music:karaoke', u'attributes:Music:live', u'attributes:Music:video', u'attributes:Noise Level', u'attributes:Open 24 Hours', u'attributes:Order at Counter', u'attributes:Outdoor Seating', u'attributes:Parking:garage', u'attributes:Parking:lot', u'attributes:Parking:street', u'attributes:Parking:valet', u'attributes:Parking:validated', u'attributes:Price Range', u'attributes:Smoking', u'attributes:Take-out', u'attributes:Takes Reservations', u'attributes:Waiter Service', u'attributes:Wheelchair Accessible', u'attributes:Wi-Fi', u'business_id', u'categories', u'city', u'full_address', u'hours:Friday:close', u'hours:Friday:open', u'hours:Monday:close', u'hours:Monday:open', u'hours:Saturday:close', u'hours:Saturday:open', u'hours:Sunday:close', u'hours:Sunday:open', u'hours:Thursday:close', u'hours:Thursday:open', u'hours:Tuesday:close', u'hours:Tuesday:open', u'hours:Wednesday:close', u'hours:Wednesday:open', u'latitude', u'longitude', u'name', u'neighborhoods', u'open', u'review_count', u'stars', u'state', u'type']\n"
     ]
    }
   ],
   "source": [
    "print cols"
   ]
  },
  {
   "cell_type": "code",
   "execution_count": 2,
   "metadata": {
    "collapsed": false
   },
   "outputs": [
    {
     "name": "stdout",
     "output_type": "stream",
     "text": [
      "55569\n"
     ]
    }
   ],
   "source": [
    "columns = ['BusinessId', '0-1', '1-2', '2-3', '3-4', '4-5', '5-6', '6-7', '7-8', '8-9', '9-10',\n",
    "          '10-11', '11-12', '12-13', '13-14', '14-15', '15-16', '16-17', '17-18', '18-19','19-20', '20-21','21-22',\n",
    "          '22-23', '23-0'] #create required columns \n",
    "question_dataframe_file = open('./output/checkin.csv', 'wb')\n",
    "writer = csv.writer(question_dataframe_file, delimiter=',')\n",
    "writer.writerow(columns)\n",
    "c = 0\n",
    "with open('./yelp_dataset/yelp_academic_dataset_checkin.json') as data_file:\n",
    "    for line in data_file:\n",
    "        times = np.zeros(24)\n",
    "        c+=1\n",
    "        review = json.loads(line)\n",
    "        keys = review['checkin_info'].keys()\n",
    "        #print keys\n",
    "        for key in keys:\n",
    "            #print hours\n",
    "            #print key\n",
    "            #print review['checkin_info'][key]\n",
    "            hours = int(key.split('-')[0])\n",
    "            times[hours] += review['checkin_info'][key]\n",
    "            \n",
    "         \n",
    "        writer.writerow([review['business_id'], times[0], times[1], times[2], times[3], times[4], times[5],\n",
    "                         times[6], times[7], times[8], times[9], times[10], times[11], times[12], times[13], times[14],\n",
    "                          times[15], times[16],  times[17], times[18], times[19], times[20], times[21], times[22], times[23]])\n",
    "\n",
    "print c"
   ]
  },
  {
   "cell_type": "code",
   "execution_count": 11,
   "metadata": {
    "collapsed": false
   },
   "outputs": [
    {
     "name": "stdout",
     "output_type": "stream",
     "text": [
      "55569\n"
     ]
    }
   ],
   "source": [
    "columns = ['BusinessId', 'total', '0-1', '1-2', '2-3', '3-4', '4-5', '5-6', '6-7', '7-8', '8-9', '9-10',\n",
    "          '10-11', '11-12', '12-13', '13-14', '14-15', '15-16', '16-17', '17-18', '18-19','19-20', '20-21','21-22',\n",
    "          '22-23', '23-0'] #create required columns \n",
    "question_dataframe_file = open('./output/checkin total.csv', 'wb')\n",
    "writer = csv.writer(question_dataframe_file, delimiter=',')\n",
    "writer.writerow(columns)\n",
    "c = 0\n",
    "with open('./yelp_dataset/yelp_academic_dataset_checkin.json') as data_file:\n",
    "    for line in data_file:\n",
    "        times = [0] * 24\n",
    "        c+=1\n",
    "        review = json.loads(line)\n",
    "        keys = review['checkin_info'].keys()\n",
    "        #print keys\n",
    "        total = 0\n",
    "        for key in keys:\n",
    "            hours = int(key.split('-')[0])\n",
    "            total +=  review['checkin_info'][key]\n",
    "            times[hours] += review['checkin_info'][key]\n",
    "        for i in range (len(times)):\n",
    "            times[i] =(\"{0:.2f}\".format(round(times[i]*1.0/total,2)))\n",
    "        \n",
    "\n",
    "        writer.writerow([review['business_id'], total, times[0], times[1], times[2], times[3], times[4], times[5],\n",
    "                         times[6], times[7], times[8], times[9], times[10], times[11], times[12], times[13], times[14],\n",
    "                          times[15], times[16],  times[17], times[18], times[19], times[20], times[21], times[22], times[23]]) \n",
    "                         \n",
    "\n",
    "print c"
   ]
  },
  {
   "cell_type": "code",
   "execution_count": 12,
   "metadata": {
    "collapsed": false,
    "scrolled": false
   },
   "outputs": [
    {
     "name": "stdout",
     "output_type": "stream",
     "text": [
      "0        cE27W9VPgO88Qxe4ol6y_g\n",
      "1        mVHrayjG3uZ_RLHkLj-AMg\n",
      "2        KayYbHCt-RkbGcPdGOThNg\n",
      "3        b12U9TFESStdy7CsTtcOeg\n",
      "4        QoDa50dc7g62xciFygXB9w\n",
      "5        1_lU0-eSWJCRvNGk78Zh9Q\n",
      "6        _qopVQ6_Mz6W7-Pmbi56GQ\n",
      "7        wJr6kSA5dchdgOdwH6dZ2w\n",
      "8        yXuao0pFz1AxB21vJjDf5w\n",
      "9        fNGIbpazjTRdXgwRY_NIXA\n",
      "10       b9WZJp5L1RZr4F1nxclOoQ\n",
      "11       zaXDakTd3RXyOa7sMrUE1g\n",
      "12       zgy27FSnvwdINfk5cXBIyQ\n",
      "13       WETE_LykpcnrC1sFcQ5EGg\n",
      "14       SQ0j7bgSTazkVQlF5AnqyQ\n",
      "15       wqu7ILomIOPSduRwoWp4AQ\n",
      "16       P1fJb2WQ1mXoiudj8UE44w\n",
      "17       8QlnAcjGE6dgfKTVoxrPvQ\n",
      "18       t_gan0EXAw8csKIeFyazJw\n",
      "19       3gmBc0qN_LtGbZAjTtHWZg\n",
      "20       yHTLTr-QN-loO_7XoxS8qg\n",
      "21       iQLLIdmJSt6LQHSjpZERLA\n",
      "22       6ilJq_05xRgek_8qUp36-g\n",
      "23       MKyk4F4HSzHF8v-4cYe3Ww\n",
      "24       gClSqcwuLsgyZRCzhJc7Dg\n",
      "25       1qCuOcks5HRv67OHovAVpg\n",
      "26       sbW8qHJgzEIH42B0S-3New\n",
      "27       W7ysp8GLCBrs0GXIVwAcBQ\n",
      "28       McikHxxEqZ2X0joaRNKlaw\n",
      "29       tv8cS4aaA1VDaInYgggb6g\n",
      "                  ...          \n",
      "55517    nPvwk6NW7j-nbvUzCh94lw\n",
      "55518    DeS-atRfeSwiSHhJSMdWUA\n",
      "55519    qjRBMRCUlUx8Ofe9tiSlTA\n",
      "55520    O9PzfyF7tpsE1GW-kHtayg\n",
      "55521    sFPULLFB7y753o9-BKaeaQ\n",
      "55522    bLQQk2vzIiODHiB4I4TOjw\n",
      "55523    GCZWCbFg-R01xNYi9TXVBQ\n",
      "55524    zI9jtvCdSwIRwtY8qGdMpg\n",
      "55525    I7uXE-VzXK3Cp4mvVp7osw\n",
      "55526    bW0n6jdHsdTWixICQzRgLA\n",
      "55527    Sn3cuLetEu1g-C6SuB0ZBw\n",
      "55528    ZPXghJnhfEnA_pqukVzNHg\n",
      "55529    LRxgLNxp8lpAu2p7Swpquw\n",
      "55530    VpAQ2sr-VzcT7j7MByW53w\n",
      "55531    W2UhUzCUK5BE8DAI8XdYuQ\n",
      "55532    NRJ4iF8KIXKH2u_0nW2Brg\n",
      "55533    dh1zBLeeN61VEemOEkbYQQ\n",
      "55534    RbX5oXtNRuCqKiYchHRNFw\n",
      "55535    89Nesr_PBYwn0lu3AiJMWg\n",
      "55536    WCCRd8g_c6Hf93GAW4OjPQ\n",
      "55537    FaymdoTfBSdPwg_ZfUE8zg\n",
      "55538    6epFZlKmaLWQV0ANzyGf6g\n",
      "55539    EZrKtxwuK19obexGC0dTzA\n",
      "55540    tWCXFJYoj9eixMEVTJd50g\n",
      "55541    xNBzT2p1VPl3LizoWsJLmg\n",
      "55542    dtlk15Awa7xWEVF9Z1Yqaw\n",
      "55543    x4L6w4eBsLxlHTjgs_-tWA\n",
      "55544    ynAlJyFhiq1fImUEZ6u6Gw\n",
      "55545    hiCIjGJfb3B4_YCAYqwduA\n",
      "55546    IitTBIY8DiJwhxPXL3x80A\n",
      "Name: BusinessId, dtype: object\n"
     ]
    }
   ],
   "source": [
    "import matplotlib.pyplot as plt\n",
    "import pandas\n",
    "#from pandas import DataFrame\n",
    "%matplotlib inline\n",
    "\n",
    "df = pandas.read_csv('./output/checkin.csv')\n",
    "#print df\n",
    "df2 = df.BusinessId\n",
    "print df2\n",
    "# print df\n",
    "# plt.plot(df[,not 'BussinessId'])\n",
    "# plt.xlabel('Date')\n",
    "# plt.xlim('Jan 2015' , 'Dec 2015')\n",
    "# plt.ylabel('Posts')"
   ]
  },
  {
   "cell_type": "code",
   "execution_count": null,
   "metadata": {
    "collapsed": true
   },
   "outputs": [],
   "source": []
  },
  {
   "cell_type": "code",
   "execution_count": null,
   "metadata": {
    "collapsed": true
   },
   "outputs": [],
   "source": []
  },
  {
   "cell_type": "code",
   "execution_count": null,
   "metadata": {
    "collapsed": true
   },
   "outputs": [],
   "source": []
  },
  {
   "cell_type": "code",
   "execution_count": null,
   "metadata": {
    "collapsed": true
   },
   "outputs": [],
   "source": []
  },
  {
   "cell_type": "code",
   "execution_count": null,
   "metadata": {
    "collapsed": true
   },
   "outputs": [],
   "source": []
  },
  {
   "cell_type": "code",
   "execution_count": null,
   "metadata": {
    "collapsed": true
   },
   "outputs": [],
   "source": []
  },
  {
   "cell_type": "code",
   "execution_count": null,
   "metadata": {
    "collapsed": true
   },
   "outputs": [],
   "source": []
  },
  {
   "cell_type": "code",
   "execution_count": null,
   "metadata": {
    "collapsed": true
   },
   "outputs": [],
   "source": []
  },
  {
   "cell_type": "code",
   "execution_count": null,
   "metadata": {
    "collapsed": true
   },
   "outputs": [],
   "source": []
  },
  {
   "cell_type": "code",
   "execution_count": null,
   "metadata": {
    "collapsed": true
   },
   "outputs": [],
   "source": []
  }
 ],
 "metadata": {
  "kernelspec": {
   "display_name": "Python 2",
   "language": "python",
   "name": "python2"
  },
  "language_info": {
   "codemirror_mode": {
    "name": "ipython",
    "version": 2
   },
   "file_extension": ".py",
   "mimetype": "text/x-python",
   "name": "python",
   "nbconvert_exporter": "python",
   "pygments_lexer": "ipython2",
   "version": "2.7.11"
  }
 },
 "nbformat": 4,
 "nbformat_minor": 0
}
